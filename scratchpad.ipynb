{
 "cells": [
  {
   "cell_type": "code",
   "execution_count": 2,
   "metadata": {},
   "outputs": [
    {
     "name": "stdout",
     "output_type": "stream",
     "text": [
      "2.0.1+cu117\n"
     ]
    }
   ],
   "source": [
    "import torch\n",
    "import torch.nn as nn\n",
    "import numpy as np\n",
    "\n",
    "\n",
    "print(torch.__version__)"
   ]
  },
  {
   "cell_type": "code",
   "execution_count": 1,
   "metadata": {},
   "outputs": [
    {
     "ename": "NameError",
     "evalue": "name 'nn' is not defined",
     "output_type": "error",
     "traceback": [
      "\u001b[0;31m---------------------------------------------------------------------------\u001b[0m",
      "\u001b[0;31mNameError\u001b[0m                                 Traceback (most recent call last)",
      "Cell \u001b[0;32mIn[1], line 3\u001b[0m\n\u001b[1;32m      1\u001b[0m \u001b[39m# make a linear layer:\u001b[39;00m\n\u001b[1;32m      2\u001b[0m \u001b[39m#\u001b[39;00m\n\u001b[0;32m----> 3\u001b[0m l \u001b[39m=\u001b[39m nn\u001b[39m.\u001b[39mLinear(\u001b[39m5\u001b[39m, \u001b[39m2\u001b[39m, dtype\u001b[39m=\u001b[39mtorch\u001b[39m.\u001b[39mfloat)\n\u001b[1;32m      4\u001b[0m l\u001b[39m.\u001b[39mweight\u001b[39m.\u001b[39mdata\n",
      "\u001b[0;31mNameError\u001b[0m: name 'nn' is not defined"
     ]
    }
   ],
   "source": [
    "# make a linear layer:\n",
    "#\n",
    "l = nn.Linear(5, 2, dtype=torch.float)\n",
    "l.weight.data"
   ]
  },
  {
   "cell_type": "code",
   "execution_count": 9,
   "metadata": {},
   "outputs": [
    {
     "name": "stdout",
     "output_type": "stream",
     "text": [
      "tensor([ 1.,  2.,  3.,  4.,  5.,  6.,  7.,  8.,  9., 10.])\n"
     ]
    }
   ],
   "source": [
    "# make an input of size 10 (vocabulary size 100)\n",
    "input_ids = torch.tensor([1, 2, 3, 4, 5], dtype=torch.float)\n",
    "print(input_ids)"
   ]
  },
  {
   "cell_type": "code",
   "execution_count": 10,
   "metadata": {},
   "outputs": [
    {
     "data": {
      "text/plain": [
       "tensor([2.0118, 2.4006], grad_fn=<AddBackward0>)"
      ]
     },
     "execution_count": 10,
     "metadata": {},
     "output_type": "execute_result"
    }
   ],
   "source": [
    "# get the shape of the layer\n",
    "l(input_ids)"
   ]
  },
  {
   "cell_type": "code",
   "execution_count": 24,
   "metadata": {},
   "outputs": [
    {
     "name": "stdout",
     "output_type": "stream",
     "text": [
      "tensor([[1., 0., 0., 0., 0.],\n",
      "        [0., 1., 0., 0., 0.],\n",
      "        [0., 0., 1., 0., 0.],\n",
      "        [0., 0., 0., 1., 0.],\n",
      "        [0., 0., 0., 0., 1.]])\n",
      "tensor([[1., 1., 1., 1., 1.],\n",
      "        [1., 1., 1., 1., 1.],\n",
      "        [1., 1., 1., 1., 1.],\n",
      "        [1., 1., 1., 1., 1.],\n",
      "        [1., 1., 1., 1., 1.]])\n",
      "tensor([[0.3968, 0.2316, 0.7598, 0.0134, 0.2137],\n",
      "        [0.8550, 0.9253, 0.1052, 0.4261, 0.9299],\n",
      "        [0.4293, 0.4932, 0.8746, 0.8704, 0.3665],\n",
      "        [0.1907, 0.2623, 0.5960, 0.9968, 0.0114],\n",
      "        [0.7196, 0.4515, 0.6329, 0.2686, 0.5931]])\n",
      "tensor([[1., 0., 0., 0., 0.],\n",
      "        [1., 1., 0., 0., 0.],\n",
      "        [1., 1., 1., 0., 0.],\n",
      "        [1., 1., 1., 1., 0.],\n",
      "        [1., 1., 1., 1., 1.]])\n"
     ]
    }
   ],
   "source": [
    "# make a unit matrix\n",
    "mat = torch.eye(5)\n",
    "print(mat)\n",
    "\n",
    "ones = torch.ones(5, 5)\n",
    "print(ones)\n",
    "\n",
    "rand = torch.rand(5, 5)\n",
    "print(rand)\n",
    "\n",
    "tril = torch.tril(ones)\n",
    "print(tril)"
   ]
  },
  {
   "cell_type": "code",
   "execution_count": 26,
   "metadata": {},
   "outputs": [
    {
     "data": {
      "text/plain": [
       "tensor([[0.3968, 0.2316, 0.7598, 0.0134, 0.2137],\n",
       "        [1.2519, 1.1568, 0.8649, 0.4395, 1.1436],\n",
       "        [1.6811, 1.6500, 1.7396, 1.3099, 1.5101],\n",
       "        [1.8718, 1.9123, 2.3356, 2.3067, 1.5215],\n",
       "        [2.5914, 2.3638, 2.9685, 2.5753, 2.1146]])"
      ]
     },
     "execution_count": 26,
     "metadata": {},
     "output_type": "execute_result"
    }
   ],
   "source": [
    "tril @ rand # <- cumulative sum of the columns !"
   ]
  },
  {
   "cell_type": "code",
   "execution_count": null,
   "metadata": {},
   "outputs": [],
   "source": [
    "flash = hasattr(torch.nn.functional, 'scaled_dot_product_attention')\n",
    "\n",
    "print('flash attention available ? ', flash)\n",
    "\n",
    "# With flash attention\n",
    "# The script took 383.0676827430725 seconds to complete.\n",
    "\n",
    "# Without\n",
    "# The script took 428.0146815776825 seconds to complete."
   ]
  }
 ],
 "metadata": {
  "kernelspec": {
   "display_name": "Python 3",
   "language": "python",
   "name": "python3"
  },
  "language_info": {
   "codemirror_mode": {
    "name": "ipython",
    "version": 3
   },
   "file_extension": ".py",
   "mimetype": "text/x-python",
   "name": "python",
   "nbconvert_exporter": "python",
   "pygments_lexer": "ipython3",
   "version": "3.10.12"
  },
  "orig_nbformat": 4
 },
 "nbformat": 4,
 "nbformat_minor": 2
}
