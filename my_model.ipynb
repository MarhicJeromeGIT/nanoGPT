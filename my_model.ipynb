{
 "cells": [
  {
   "cell_type": "code",
   "execution_count": 2,
   "metadata": {},
   "outputs": [],
   "source": [
    "import torch\n",
    "import torch.nn as nn"
   ]
  },
  {
   "cell_type": "code",
   "execution_count": 3,
   "metadata": {},
   "outputs": [],
   "source": [
    "class MyModel(nn.Module):\n",
    "    def __init__(self):\n",
    "        super().__init__()\n",
    "        self.first_layer = nn.Linear(10, 1)\n",
    "\n",
    "    def forward(self, x):\n",
    "        x = self.first_layer(x)\n",
    "        return x"
   ]
  },
  {
   "cell_type": "code",
   "execution_count": 4,
   "metadata": {},
   "outputs": [],
   "source": [
    "m = MyModel()\n",
    "\n",
    "# Train the model:\n",
    "optimizer = torch.optim.Adam(m.parameters(), lr=0.001)\n",
    "loss_function = nn.MSELoss() # or any other appropriate loss function"
   ]
  },
  {
   "cell_type": "code",
   "execution_count": 14,
   "metadata": {},
   "outputs": [
    {
     "name": "stdout",
     "output_type": "stream",
     "text": [
      "loss :  tensor(4.6268e-06, grad_fn=<MseLossBackward0>)\n"
     ]
    }
   ],
   "source": [
    "# 1000 times\n",
    "loss = 0\n",
    "for i in range(1000):\n",
    "  x = torch.rand(32, 10) # 32: batch size\n",
    "  target = torch.ones(32,1)\n",
    "  y = m(x)\n",
    "\n",
    "  loss = loss_function(y, target)\n",
    "\n",
    "  optimizer.zero_grad()\n",
    "  loss.backward()\n",
    "  optimizer.step()\n",
    "\n",
    "print('loss : ', loss)"
   ]
  },
  {
   "cell_type": "code",
   "execution_count": 19,
   "metadata": {},
   "outputs": [],
   "source": [
    "# save the weights:\n",
    "torch.save(m.state_dict(), 'my_model_state_dict.pth')"
   ]
  },
  {
   "cell_type": "code",
   "execution_count": 22,
   "metadata": {},
   "outputs": [
    {
     "name": "stdout",
     "output_type": "stream",
     "text": [
      "tensor([[1.0011]], grad_fn=<AddmmBackward0>)\n"
     ]
    }
   ],
   "source": [
    "# load the model from weights:\n",
    "m2 = MyModel()\n",
    "m2.load_state_dict(torch.load('my_model_state_dict.pth'))\n",
    "\n",
    "x = torch.rand(1, 10)\n",
    "y = m2(x)\n",
    "print(y)"
   ]
  },
  {
   "cell_type": "code",
   "execution_count": null,
   "metadata": {},
   "outputs": [],
   "source": [
    "  "
   ]
  }
 ],
 "metadata": {
  "kernelspec": {
   "display_name": "Python 3",
   "language": "python",
   "name": "python3"
  },
  "language_info": {
   "codemirror_mode": {
    "name": "ipython",
    "version": 3
   },
   "file_extension": ".py",
   "mimetype": "text/x-python",
   "name": "python",
   "nbconvert_exporter": "python",
   "pygments_lexer": "ipython3",
   "version": "3.10.12"
  },
  "orig_nbformat": 4
 },
 "nbformat": 4,
 "nbformat_minor": 2
}
